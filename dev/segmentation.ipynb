{
 "cells": [
  {
   "cell_type": "code",
   "execution_count": null,
   "metadata": {},
   "outputs": [],
   "source": [
    "from readlif.reader import LifFile\n",
    "lif_file = LifFile(r\"D:\\Box Sync\\confocal\\retina\\immunos\\66\\isl2_calret_brn3c\\immuno fixation duration test.lif\")"
   ]
  }
 ],
 "metadata": {
  "kernelspec": {
   "display_name": "neuron_reconstruction",
   "language": "python",
   "name": "python3"
  },
  "language_info": {
   "name": "python",
   "version": "3.12.5"
  }
 },
 "nbformat": 4,
 "nbformat_minor": 2
}
